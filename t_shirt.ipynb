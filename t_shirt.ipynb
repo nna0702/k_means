{
 "cells": [
  {
   "cell_type": "code",
   "execution_count": 1,
   "metadata": {
    "collapsed": true
   },
   "outputs": [],
   "source": [
    "import analysis\n",
    "import elbow\n",
    "import iteration\n",
    "import pandas as pd\n",
    "%matplotlib inline\n",
    "import numpy as np\n",
    "import urllib.request"
   ]
  },
  {
   "cell_type": "markdown",
   "metadata": {},
   "source": [
    "# Get data"
   ]
  },
  {
   "cell_type": "code",
   "execution_count": 2,
   "metadata": {},
   "outputs": [
    {
     "data": {
      "text/plain": [
       "('data/shirt.csv', <http.client.HTTPMessage at 0x4140f83c50>)"
      ]
     },
     "execution_count": 2,
     "metadata": {},
     "output_type": "execute_result"
    }
   ],
   "source": [
    "# URL name\n",
    "url = 'https://raw.githubusercontent.com/Padam-0/cluster_t-shirt_sizing/master/data.csv'\n",
    "\n",
    "# File name\n",
    "file_name = 'data/shirt.csv'\n",
    "\n",
    "# Save csv files\n",
    "urllib.request.urlretrieve(url, file_name)"
   ]
  },
  {
   "cell_type": "markdown",
   "metadata": {},
   "source": [
    "# Elbow plot"
   ]
  },
  {
   "cell_type": "code",
   "execution_count": 3,
   "metadata": {},
   "outputs": [],
   "source": [
    "# Read data\n",
    "data  = pd.read_csv(file_name)\n",
    "\n",
    "# Lowercase column names\n",
    "data.columns = map(str.lower, data.columns)\n",
    "\n",
    "# Relevant columns\n",
    "cols = ['chest circumference', 'waist circumference', 'shoulder-elbow length', 'erect sitting height', 'shoulder breadth']\n",
    "data = data[cols]"
   ]
  },
  {
   "cell_type": "code",
   "execution_count": 4,
   "metadata": {},
   "outputs": [
    {
     "name": "stdout",
     "output_type": "stream",
     "text": [
      "Saved to plots/elbow.png\n"
     ]
    },
    {
     "data": {
      "image/png": "[encoded data removed]",
      "text/plain": [
       "<Figure size 432x288 with 1 Axes>"
      ]
     },
     "metadata": {},
     "output_type": "display_data"
    }
   ],
   "source": [
    "# Set the range of number of clusters\n",
    "num_cluster = list(range(1, 10))\n",
    "\n",
    "# Calculate cost function for each number of clusters\n",
    "cost = []\n",
    "for K in num_cluster:\n",
    "    centroid_list = analysis.initialize(data, K)\n",
    "    data_array = data.to_numpy()\n",
    "    final_centroid, clusters = elbow.centroid_iteration(data_array, centroid_list, K)\n",
    "    cost.append(elbow.cost_function(final_centroid, clusters, K))\n",
    "\n",
    "# Plot elbow\n",
    "elbow.plot_elbow(num_cluster, cost)"
   ]
  },
  {
   "cell_type": "markdown",
   "metadata": {},
   "source": [
    "6 clusters look ok"
   ]
  },
  {
   "cell_type": "markdown",
   "metadata": {},
   "source": [
    "# Implement k-means clustering for K = 6"
   ]
  },
  {
   "cell_type": "code",
   "execution_count": null,
   "metadata": {
    "collapsed": true
   },
   "outputs": [],
   "source": [
    "K = 6"
   ]
  },
  {
   "cell_type": "code",
   "execution_count": null,
   "metadata": {},
   "outputs": [],
   "source": [
    "# Read data\n",
    "data  = pd.read_csv(file_name)\n",
    "\n",
    "# Lowercase column names\n",
    "data.columns = map(str.lower, data.columns)\n",
    "\n",
    "# Relevant columns\n",
    "cols = ['chest circumference', 'waist circumference', 'shoulder-elbow length', 'erect sitting height', 'shoulder breadth']\n",
    "working_data = data[cols]\n",
    "\n",
    "# Remove rows with any zero\n",
    "for column in cols:\n",
    "    working_data = working_data[working_data[column] != 0]"
   ]
  },
  {
   "cell_type": "code",
   "execution_count": null,
   "metadata": {
    "collapsed": true
   },
   "outputs": [],
   "source": [
    "# Convert data into array\n",
    "data_array = working_data.to_numpy()\n",
    "\n",
    "# Randomly initialize K points\n",
    "centroid_list = analysis.initialize(working_data,K)"
   ]
  },
  {
   "cell_type": "code",
   "execution_count": null,
   "metadata": {
    "scrolled": false
   },
   "outputs": [],
   "source": [
    "time = 0\n",
    "\n",
    "while True:\n",
    "    time += 1\n",
    "    clusters = analysis.cluster_assignment(data_array, centroid_list, K)\n",
    "    centroid_list = analysis.new_centroid(clusters, centroid_list)\n",
    "\n",
    "    if np.allclose(centroid_list[-(K * 2) : -K], centroid_list[-K :]):\n",
    "        break"
   ]
  },
  {
   "cell_type": "code",
   "execution_count": null,
   "metadata": {},
   "outputs": [],
   "source": [
    "output = iteration.export_table(clusters, working_data, centroid_list, K, \"shirt_output.csv\")"
   ]
  },
  {
   "cell_type": "code",
   "execution_count": null,
   "metadata": {
    "collapsed": true
   },
   "outputs": [],
   "source": [
    "new_point = np.array([600, 600, 300, 600, 400])"
   ]
  },
  {
   "cell_type": "code",
   "execution_count": null,
   "metadata": {},
   "outputs": [],
   "source": [
    "iteration.find_cluster(new_point, centroid_list, K)"
   ]
  }
 ],
 "metadata": {
  "kernelspec": {
   "display_name": "Python 3",
   "language": "python",
   "name": "python3"
  },
  "language_info": {
   "codemirror_mode": {
    "name": "ipython",
    "version": 3
   },
   "file_extension": ".py",
   "mimetype": "text/x-python",
   "name": "python",
   "nbconvert_exporter": "python",
   "pygments_lexer": "ipython3",
   "version": "3.6.1"
  }
 },
 "nbformat": 4,
 "nbformat_minor": 2
}
